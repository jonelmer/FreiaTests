{
 "cells": [
  {
   "cell_type": "markdown",
   "metadata": {},
   "source": [
    "Loads the file names into a dict and pickles...\n",
    "\n",
    "http://nptdms.readthedocs.io/en/latest/"
   ]
  },
  {
   "cell_type": "code",
   "execution_count": 1,
   "metadata": {},
   "outputs": [],
   "source": [
    "data_dir = \".\\\\data\\\\\"\n",
    "\n",
    "#filename = \"2018-06-20-10-44-11.tdms\"\n",
    "#keyence_filename= \"2018-06-20-10-44-18-KEYENCE.tdms\"\n",
    "\n",
    "# SLC-2445, air, slow\n",
    "#filename = \"2018-07-12-18-36-41.tdms\"\n",
    "#keyence_filename= \"2018-07-12-18-36-56-KEYENCE.tdms\"\n",
    "\n",
    "# SLC-2445, air, fast\n",
    "filename = \"2018-07-12-18-51-08.tdms\"\n",
    "keyence_filename= \"2018-07-12-18-51-17-KEYENCE.tdms\"\n",
    "\n",
    "#filename = \"2018-07-17-10-17-29.tdms\"  # SLC-2445, vac, fast\n",
    "#filename = \"2018-07-17-09-45-52.tdms\" # SLC-2445, vac, slow\n",
    "#keyence_filename = None"
   ]
  },
  {
   "cell_type": "code",
   "execution_count": 2,
   "metadata": {},
   "outputs": [
    {
     "name": "stdout",
     "output_type": "stream",
     "text": [
      "Filename: \t2018-07-12-18-51-08\n",
      "Dwell time: \t0.5s\n",
      "Velocity: \t0.0mm/s\n",
      "Acceleration: \t10.0mm/s²\n",
      "Max freq: \t20000Hz\n",
      "Setpoints: \t-8.0mm, -12.0mm\n",
      "Notes: \tN/A\n"
     ]
    }
   ],
   "source": [
    "#Import SmarAct/Temperature data\n",
    "from nptdms import TdmsFile\n",
    "\n",
    "# Load the file\n",
    "tdms_file = TdmsFile(data_dir + filename)\n",
    "\n",
    "props = tdms_file.object().properties\n",
    "props['Acceleration'] = props['Acceleration']/1e9\n",
    "props['Velocity'] = props['Velocity']/1e9\n",
    "props['SetPoint1'] = props['SetPoint1']/1e9\n",
    "props['SetPoint2'] = props['SetPoint2']/1e9\n",
    "\n",
    "try:\n",
    "    props['Note'] = \", \".join(props['Note'].split(\"\\n\"))\n",
    "except KeyError:\n",
    "    props['Note'] = \"N/A\"\n",
    "\n",
    "info = \\\n",
    "\"\"\"Filename: \\t{name}\n",
    "Dwell time: \\t{Dwell}s\n",
    "Velocity: \\t{Velocity}mm/s\n",
    "Acceleration: \\t{Acceleration}mm/s²\n",
    "Max freq: \\t{Freq}Hz\n",
    "Setpoints: \\t{SetPoint1}mm, {SetPoint2}mm\n",
    "Notes: \\t{Note}\"\"\".format(**props)\n",
    "\n",
    "print(info)\n",
    "\n",
    "info_key, info_val = zip(*[i.split('\\t') for i in info.split('\\n')])\n",
    "\n",
    "# Read the setpoint data\n",
    "set_point = dict(\n",
    "    time  = tdms_file.object('SetPoint', 'Time').data,\n",
    "    data  = tdms_file.object('SetPoint', 'SET_PT').data\n",
    "    )\n",
    "\n",
    "# Read the position data\n",
    "position = dict(\n",
    "    time  = tdms_file.object('Position', 'Time').data,\n",
    "    data  = tdms_file.object('Position', 'SM-POS').data\n",
    "    )\n",
    "\n",
    "# Convert pm into mm\n",
    "set_point['data'] = [d/1e9 for d in set_point['data']]\n",
    "position['data']  = [d/1e9 for d in position['data']]\n",
    "\n",
    "# Read the temperature data\n",
    "temperature = dict(\n",
    "    time  = tdms_file.object('Temperature', 'Time').data,\n",
    "    stage = tdms_file.object('Temperature', 'T_STAGE').data,\n",
    "    base  = tdms_file.object('Temperature', 'T_BASE').data,\n",
    "    amb   = tdms_file.object('Temperature', 'T_AMB').data\n",
    "    )"
   ]
  },
  {
   "cell_type": "code",
   "execution_count": 3,
   "metadata": {},
   "outputs": [],
   "source": [
    "# Import Keyence data\n",
    "from nptdms import TdmsFile\n",
    "\n",
    "if keyence_filename is not None:\n",
    "    # Load the file\n",
    "    keyence_tdms_file = TdmsFile(data_dir + keyence_filename)\n",
    "\n",
    "    keyence = dict(\n",
    "        time  = keyence_tdms_file.object('DATA', 'Time').data,\n",
    "        # The keyence data is -ve - invert it!\n",
    "        data1 = keyence_tdms_file.object('DATA', 'OUT1').data * -1,\n",
    "        data2 = keyence_tdms_file.object('DATA', 'OUT2').data * -1\n",
    "    )"
   ]
  },
  {
   "cell_type": "code",
   "execution_count": 4,
   "metadata": {},
   "outputs": [],
   "source": [
    "full_data = dict(\n",
    "    set_point   = set_point,\n",
    "    position    = position,\n",
    "    temperature = temperature,\n",
    "    info        = dict([i.split('\\t') for i in info.split('\\n')])\n",
    ")\n",
    "\n",
    "if keyence_filename is not None:\n",
    "    full_data['keyence'] = keyence"
   ]
  },
  {
   "cell_type": "code",
   "execution_count": 5,
   "metadata": {},
   "outputs": [
    {
     "name": "stdout",
     "output_type": "stream",
     "text": [
      "Full dataset:\n",
      "set_point: \t1527 points\n",
      "position: \t24196 points\n",
      "temperature: \t1216 points\n",
      "info: \t19 points\n",
      "keyence: \t26738 points\n"
     ]
    }
   ],
   "source": [
    "print(\"Full dataset:\")\n",
    "for k in full_data:\n",
    "    print(\"{}: \\t{} points\".format(k, len(full_data[k][[*full_data[k]][0]])))"
   ]
  },
  {
   "cell_type": "code",
   "execution_count": 6,
   "metadata": {
    "scrolled": false
   },
   "outputs": [
    {
     "name": "stdout",
     "output_type": "stream",
     "text": [
      "set_point\n",
      "\ttime\n",
      "\tdata\n",
      "position\n",
      "\ttime\n",
      "\tdata\n",
      "temperature\n",
      "\ttime\n",
      "\tstage\n",
      "\tbase\n",
      "\tamb\n",
      "info\n",
      "\tFilename: \n",
      "\tDwell time: \n",
      "\tVelocity: \n",
      "\tAcceleration: \n",
      "\tMax freq: \n",
      "\tSetpoints: \n",
      "\tNotes: \n",
      "keyence\n",
      "\ttime\n",
      "\tdata1\n",
      "\tdata2\n"
     ]
    }
   ],
   "source": [
    "for k in full_data:\n",
    "    print(k)\n",
    "    for l in full_data[k]:\n",
    "        print(\"\\t\"+l)"
   ]
  },
  {
   "cell_type": "code",
   "execution_count": 7,
   "metadata": {},
   "outputs": [
    {
     "name": "stdout",
     "output_type": "stream",
     "text": [
      "Full dataset stored in .\\data\\2018-07-12-18-51-08.tdms_2018-07-12-18-51-17-KEYENCE.tdms_full_data.p\n"
     ]
    }
   ],
   "source": [
    "# Dump the data to file...\n",
    "\n",
    "import pickle\n",
    "\n",
    "if keyence_filename is not None:\n",
    "    pickle_file = data_dir + \"_\".join([filename, keyence_filename, \"full_data.p\"])\n",
    "else:\n",
    "    pickle_file = data_dir + \"_\".join([filename, \"full_data.p\"])\n",
    "\n",
    "pickle.dump(full_data, open(pickle_file, 'wb'))\n",
    "\n",
    "print(\"Full dataset stored in {}\".format(pickle_file))"
   ]
  },
  {
   "cell_type": "code",
   "execution_count": null,
   "metadata": {},
   "outputs": [],
   "source": []
  }
 ],
 "metadata": {
  "kernelspec": {
   "display_name": "Python 3",
   "language": "python",
   "name": "python3"
  },
  "language_info": {
   "codemirror_mode": {
    "name": "ipython",
    "version": 3
   },
   "file_extension": ".py",
   "mimetype": "text/x-python",
   "name": "python",
   "nbconvert_exporter": "python",
   "pygments_lexer": "ipython3",
   "version": "3.6.4"
  }
 },
 "nbformat": 4,
 "nbformat_minor": 2
}
