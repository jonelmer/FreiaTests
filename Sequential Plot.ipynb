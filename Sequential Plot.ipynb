{
 "cells": [
  {
   "cell_type": "code",
   "execution_count": null,
   "metadata": {},
   "outputs": [],
   "source": [
    "data_dir = \".\\\\data\\\\\"\n",
    "\n",
    "# SLC-2445, vac, 72hrs\n",
    "filename = \"2018-07-27-14-45-18.tdms\"\n",
    "keyence_filename= None\n",
    "\n",
    "# SLC-1730, vac, 24hrs\n",
    "filename = \"2018-07-26-14-39-24.tdms\"\n",
    "keyence_filename= None\n",
    "\n",
    "# SLC-1730, vac, 48hrs\n",
    "filename = \"2018-07-30-16-19-44.tdms\"\n",
    "keyence_filename= None"
   ]
  },
  {
   "cell_type": "code",
   "execution_count": null,
   "metadata": {},
   "outputs": [],
   "source": [
    "import batch_utils\n",
    "import data_tools"
   ]
  },
  {
   "cell_type": "code",
   "execution_count": null,
   "metadata": {},
   "outputs": [],
   "source": [
    "from ipywidgets import FloatProgress\n",
    "from IPython.display import display\n",
    "\n",
    "import numpy as np\n",
    "from pprint import pprint\n",
    "import datetime\n",
    "from time import time\n",
    "\n",
    "from importlib import reload\n",
    "reload(batch_utils)\n",
    "reload(data_tools)\n",
    "\n",
    "data, info = batch_utils.load_data(filename, keyence_filename, suffix=\"seq\") \n",
    "pprint(info)\n",
    "batch_utils.print_lengths(data, \"Dataset:\")"
   ]
  },
  {
   "cell_type": "code",
   "execution_count": null,
   "metadata": {},
   "outputs": [],
   "source": [
    "from plotly.offline import download_plotlyjs, init_notebook_mode, plot, iplot\n",
    "from plotly.graph_objs import *\n",
    "\n",
    "init_notebook_mode(connected=True)\n",
    "\n",
    "plotter = Scatter\n",
    "\n",
    "\n",
    "def plot(l=None):\n",
    "    if l is not None:\n",
    "        limits = [data['set_point']['time'][l[0]], data['set_point']['time'][l[1]]]\n",
    "        d = dict(zip(data.keys(), [data_tools.truncate(limits, data[k], find_mode={'seek':False}) for k in data]))\n",
    "        text = [\"i={}\".format(i+l[0]) for i in range(len(d['set_point']['time']))]\n",
    "    else:\n",
    "        d = data\n",
    "        text = [\"i={}\".format(i) for i in range(len(d['set_point']['time']))]\n",
    "\n",
    "    plots = [\n",
    "        plotter(x=d['set_point']['time'], y=d['set_point']['data'], name=\"Set Point\", line={'shape':'hv'}, text=text),\n",
    "        plotter(x=d['position']['time'],  y=d['position']['data'], name=\"Stage Position\"),\n",
    "        plotter(x=d['position']['time'],  y=np.ma.MaskedArray(d['position']['data'], \n",
    "                                                              mask=d['position']['mask']), name=\"Stage Position Masked\"),\n",
    "        plotter(x=d['position']['time'], y=d['position']['set_point'], name=\"Stage Error\"),\n",
    "        plotter(x=d['position']['time'], y=np.ma.MaskedArray(d['position']['set_point'], \n",
    "                                                             mask=d['position']['mask']), name=\"Stage Error Masked\"),\n",
    "        plotter(x=d['set_point']['time'], y=d['set_point']['avg_position'], name=\"Stage Error Average\", line={'shape':'hv'}, text=text),\n",
    "        #plotter(x=d['set_point']['time'], y=d['set_point']['max_position'], name=\"Stage Error Max\"),\n",
    "        #plotter(x=d['set_point']['time'], y=d['set_point']['min_position'], name=\"Stage Error Min\"),\n",
    "\n",
    "        Histogram(y=d['set_point']['avg_position'], name=\"Stage Error Average\", xaxis='x2'),\n",
    "        \n",
    "        plotter(x=d['temperature']['time'], y=d['temperature']['stage'], name=\"Stage\",   yaxis='y2'),\n",
    "        plotter(x=d['temperature']['time'], y=d['temperature']['base'],  name=\"Base\",    yaxis='y2'),\n",
    "        plotter(x=d['temperature']['time'], y=d['temperature']['amb'],   name=\"Ambient\", yaxis='y2'),\n",
    "\n",
    "    ]\n",
    "\n",
    "    # Too much data, don't plot the un-aggregated stuff!\n",
    "    if sum([len(d[e]['time']) for e in d]) > 7000:\n",
    "        plots = [plots[5], plots[6], plots[7]]\n",
    "\n",
    "    layout = Layout(\n",
    "        width = 800,\n",
    "        height = 800,\n",
    "        title = filename,\n",
    "        xaxis = dict(\n",
    "            title = \"Time\",\n",
    "            domain=[0, 0.7],\n",
    "        ),\n",
    "        yaxis = dict(\n",
    "            title = \"Position (mm)\",\n",
    "        ),\n",
    "        xaxis2 = dict(\n",
    "            title = \"Log Prob\",\n",
    "            type = \"log\",\n",
    "            domain=[0.8, 1],\n",
    "        ),\n",
    "        yaxis2 = dict(\n",
    "            title = \"Temperature (°C)\",\n",
    "            overlaying='y',\n",
    "            side='right',\n",
    "        ),\n",
    "        legend = dict(\n",
    "            orientation=\"h\",\n",
    "        )\n",
    "    )\n",
    "\n",
    "    fig = Figure(data=plots, layout=layout)\n",
    "    iplot(fig, filename=filename)"
   ]
  },
  {
   "cell_type": "code",
   "execution_count": null,
   "metadata": {
    "scrolled": false
   },
   "outputs": [],
   "source": [
    "plot()"
   ]
  },
  {
   "cell_type": "code",
   "execution_count": null,
   "metadata": {},
   "outputs": [],
   "source": [
    "\n",
    "if filename == \"2018-07-27-14-45-18.tdms\":\n",
    "    plot([37100, 37200]) #72hr\n",
    "    \n",
    "if filename == \"2018-07-30-16-19-44.tdms\":\n",
    "    plot([69000, 69100]) #48hr\n",
    "    "
   ]
  },
  {
   "cell_type": "code",
   "execution_count": null,
   "metadata": {},
   "outputs": [],
   "source": [
    "if filename == \"2018-07-27-14-45-18.tdms\":\n",
    "    plot([48550, 48700]) #72hr\n",
    "    \n",
    "if filename == \"2018-07-30-16-19-44.tdms\":\n",
    "    plot([75600, 75700]) #48hr"
   ]
  },
  {
   "cell_type": "code",
   "execution_count": null,
   "metadata": {},
   "outputs": [],
   "source": []
  },
  {
   "cell_type": "code",
   "execution_count": null,
   "metadata": {},
   "outputs": [],
   "source": [
    "def plot_time(k=None, l=None):\n",
    "    if l is not None:\n",
    "        limits = [data['set_point']['time'][l[0]], data['set_point']['time'][l[1]]]\n",
    "        d = dict(zip(data.keys(), [data_tools.truncate(limits, data[k], find_mode={'seek':False}) for k in data]))\n",
    "        print(\"Using limits - don't trust i!\")\n",
    "    else:\n",
    "        d = data\n",
    "\n",
    "    if k is None:\n",
    "        plots = [\n",
    "            plotter(x=data[key]['time'], y=[(b-a).total_seconds() for a, b in zip(data[key]['time'], data[key]['time'][1:])], \n",
    "                    name=key, text=[\"i={}\".format(i) for i in range(len(data[key]['time']))]) for key in data\n",
    "        ]\n",
    "    else:\n",
    "        plots = [\n",
    "            plotter(x=data[k]['time'], y=[(b-a).total_seconds() for a, b in zip(data[k]['time'], data[k]['time'][1:])], \n",
    "                    name=k, text=[\"i={}\".format(i) for i in range(len(data[k]['time']))]),\n",
    "        ]\n",
    "\n",
    "    layout = Layout(\n",
    "        width = 800,\n",
    "        height = 800,\n",
    "        title = filename,\n",
    "        xaxis = dict(\n",
    "            title = \"Time\",\n",
    "        ),\n",
    "        yaxis = dict(\n",
    "            title = \"Δ Time (s)\",\n",
    "        ),\n",
    "        legend = dict(\n",
    "            orientation=\"h\",\n",
    "        )\n",
    "    )\n",
    "\n",
    "    fig = Figure(data=plots, layout=layout)\n",
    "    iplot(fig, filename=filename)"
   ]
  },
  {
   "cell_type": "code",
   "execution_count": null,
   "metadata": {},
   "outputs": [],
   "source": [
    "plot_time(k=\"set_point\")"
   ]
  },
  {
   "cell_type": "code",
   "execution_count": null,
   "metadata": {},
   "outputs": [],
   "source": []
  }
 ],
 "metadata": {
  "kernelspec": {
   "display_name": "Python 3",
   "language": "python",
   "name": "python3"
  },
  "language_info": {
   "codemirror_mode": {
    "name": "ipython",
    "version": 3
   },
   "file_extension": ".py",
   "mimetype": "text/x-python",
   "name": "python",
   "nbconvert_exporter": "python",
   "pygments_lexer": "ipython3",
   "version": "3.6.4"
  }
 },
 "nbformat": 4,
 "nbformat_minor": 2
}
