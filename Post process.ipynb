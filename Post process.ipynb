{
 "cells": [
  {
   "cell_type": "code",
   "execution_count": null,
   "metadata": {},
   "outputs": [],
   "source": [
    "data_dir = \".\\\\data\\\\\"\n",
    "\n",
    "\n",
    "# SLC-1730, air, slow, 10mins\n",
    "#filename = \"2018-07-25-10-58-32.tdms\"\n",
    "#keyence_filename= \"2018-07-25-10-58-24-KEYENCE.tdms\"\n",
    "\n",
    "# SLC-1730, vac, 24hrs\n",
    "filename = \"2018-07-26-14-39-24.tdms\"\n",
    "keyence_filename= None"
   ]
  },
  {
   "cell_type": "code",
   "execution_count": null,
   "metadata": {},
   "outputs": [],
   "source": [
    "import pickle\n",
    "\n",
    "if keyence_filename is not None:\n",
    "    pickle_file = data_dir + \"_\".join([filename, keyence_filename, \"proc_data.p\"])\n",
    "else:\n",
    "    pickle_file = data_dir + \"_\".join([filename, \"proc_data.p\"])\n",
    "\n",
    "try:\n",
    "    full_data = pickle.load(open(pickle_file, 'rb'))\n",
    "    print(\"Loaded the data from \" + pickle_file)\n",
    "except FileNotFoundError:\n",
    "    print(\"File not found, load the data again!\")"
   ]
  },
  {
   "cell_type": "code",
   "execution_count": null,
   "metadata": {},
   "outputs": [],
   "source": [
    "# Pop the info out, it can't be processed...\n",
    "info = full_data.pop(\"info\")\n",
    "\n",
    "# Print the info\n",
    "col_width = max(len(k) for k in info.keys()) + 2  # padding\n",
    "for k in info:\n",
    "    print(\"\".join([k.ljust(col_width), info[k]]))"
   ]
  },
  {
   "cell_type": "code",
   "execution_count": null,
   "metadata": {},
   "outputs": [],
   "source": []
  },
  {
   "cell_type": "code",
   "execution_count": null,
   "metadata": {},
   "outputs": [],
   "source": [
    "import data_tools\n",
    "from pprint import pprint\n",
    "\n",
    "truncate = False\n",
    "\n",
    "if truncate:\n",
    "\n",
    "    print(len(full_data['set_point']['time']))\n",
    "\n",
    "    limits = [full_data['set_point']['time'][0], full_data['set_point']['time'][1000]]\n",
    "\n",
    "    print(\"Using limits:\")\n",
    "    pprint(limits)\n",
    "\n",
    "    # Truncate the data\n",
    "    data = dict(zip(data.keys(), [data_tools.truncate(limits, full_data[k]) for k in full_data]))\n",
    "\n",
    "else:\n",
    "    data = full_data\n",
    "\n",
    "print(len(data['set_point']['time']))"
   ]
  },
  {
   "cell_type": "code",
   "execution_count": null,
   "metadata": {},
   "outputs": [],
   "source": [
    "# Loop through the SPs. Average the values between two set points.\n",
    "\n",
    "import numpy as np\n",
    "\n",
    "from importlib import reload\n",
    "reload(data_tools)\n",
    "\n",
    "k_agg = ['position', 'data_set_point_data']\n",
    "k_win = ['set_point', 'time']\n",
    "\n",
    "# Make a progress bar\n",
    "from ipywidgets import FloatProgress\n",
    "from IPython.display import display\n",
    "print(\"Calculating averages\")\n",
    "p = FloatProgress()\n",
    "display(p)\n",
    "\n",
    "from time import time\n",
    "\n",
    "start = time()\n",
    "\n",
    "data_tools.aggregate_data(k_agg, k_win, data, p)\n",
    "\n",
    "duration = time() - start\n",
    "        \n",
    "print(\"Done in {}s\".format(duration))\n",
    "    "
   ]
  },
  {
   "cell_type": "code",
   "execution_count": null,
   "metadata": {},
   "outputs": [],
   "source": [
    "for k in data:\n",
    "    print(k)\n",
    "    for l in data[k]:\n",
    "        print(\"\\t{}\\t{}\".format(l, len(data[k][l])))"
   ]
  },
  {
   "cell_type": "code",
   "execution_count": null,
   "metadata": {},
   "outputs": [],
   "source": [
    "from plotly.offline import download_plotlyjs, init_notebook_mode, plot, iplot\n",
    "from plotly.graph_objs import *\n",
    "\n",
    "init_notebook_mode(connected=True)\n",
    "\n",
    "plotter = Scatter\n",
    "#plotter = Scattergl\n",
    "\n",
    "plots = [\n",
    "    plotter(x=data['position']['time'], y=np.ma.MaskedArray(data['position']['data_set_point_data'], \n",
    "                                                            mask=data['position']['mask_set_point']), name=\"Stage Error\"),\n",
    "    plotter(x=data['set_point']['time'], y=data['set_point']['avg_position_data_set_point_data'], name=\"Stage Error Average\"),\n",
    "    plotter(x=data['set_point']['time'], y=data['set_point']['max_position_data_set_point_data'], name=\"Stage Error Max\"),\n",
    "    plotter(x=data['set_point']['time'], y=data['set_point']['min_position_data_set_point_data'], name=\"Stage Error Min\"),\n",
    "\n",
    "]\n",
    "\n",
    "layout = Layout(\n",
    "    width = 800,\n",
    "    height = 800,\n",
    "    title = filename,\n",
    "    xaxis = dict(\n",
    "        title = \"Time\",\n",
    "    ),\n",
    "    yaxis = dict(\n",
    "        title = \"Position (mm)\",\n",
    "    )\n",
    ")\n",
    "\n",
    "fig = Figure(data=plots, layout=layout)\n",
    "iplot(fig, filename=filename)"
   ]
  },
  {
   "cell_type": "code",
   "execution_count": null,
   "metadata": {},
   "outputs": [],
   "source": []
  }
 ],
 "metadata": {
  "kernelspec": {
   "display_name": "Python 3",
   "language": "python",
   "name": "python3"
  },
  "language_info": {
   "codemirror_mode": {
    "name": "ipython",
    "version": 3
   },
   "file_extension": ".py",
   "mimetype": "text/x-python",
   "name": "python",
   "nbconvert_exporter": "python",
   "pygments_lexer": "ipython3",
   "version": "3.6.4"
  }
 },
 "nbformat": 4,
 "nbformat_minor": 2
}
