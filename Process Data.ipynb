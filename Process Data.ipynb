{
 "cells": [
  {
   "cell_type": "markdown",
   "metadata": {},
   "source": [
    "Process the data..."
   ]
  },
  {
   "cell_type": "code",
   "execution_count": 1,
   "metadata": {},
   "outputs": [],
   "source": [
    "data_dir = \".\\\\data\\\\\"\n",
    "\n",
    "#filename = \"2018-06-20-10-44-11.tdms\"\n",
    "#keyence_filename= \"2018-06-20-10-44-18-KEYENCE.tdms\"\n",
    "\n",
    "# SLC-2445, air, slow\n",
    "#filename = \"2018-07-12-18-36-41.tdms\"\n",
    "#keyence_filename= \"2018-07-12-18-36-56-KEYENCE.tdms\"\n",
    "\n",
    "# SLC-2445, air, fast\n",
    "filename = \"2018-07-12-18-51-08.tdms\"\n",
    "keyence_filename= \"2018-07-12-18-51-17-KEYENCE.tdms\"\n",
    "\n",
    "#filename = \"2018-07-17-10-17-29.tdms\"  # SLC-2445, vac, fast\n",
    "#filename = \"2018-07-17-09-45-52.tdms\" # SLC-2445, vac, slow\n",
    "#keyence_filename = None"
   ]
  },
  {
   "cell_type": "code",
   "execution_count": 2,
   "metadata": {},
   "outputs": [
    {
     "name": "stdout",
     "output_type": "stream",
     "text": [
      "Loaded the data from .\\data\\2018-07-12-18-51-08.tdms_2018-07-12-18-51-17-KEYENCE.tdms_full_data.p\n"
     ]
    }
   ],
   "source": [
    "import pickle\n",
    "\n",
    "if keyence_filename is not None:\n",
    "    pickle_file = data_dir + \"_\".join([filename, keyence_filename, \"full_data.p\"])\n",
    "else:\n",
    "    pickle_file = data_dir + \"_\".join([filename, \"full_data.p\"])\n",
    "\n",
    "try:\n",
    "    full_data = pickle.load(open(pickle_file, 'rb'))\n",
    "    print(\"Loaded the data from \" + pickle_file)\n",
    "    \n",
    "    # Pop the info out, it can't be processed...\n",
    "    info = full_data.pop(\"info\")\n",
    "    \n",
    "except FileNotFoundError:\n",
    "    print(\"File not found, load the data again!\")"
   ]
  },
  {
   "cell_type": "code",
   "execution_count": 3,
   "metadata": {},
   "outputs": [
    {
     "name": "stdout",
     "output_type": "stream",
     "text": [
      "Full dataset:\n",
      "set_point: \t1527 points\n",
      "position: \t24196 points\n",
      "temperature: \t1216 points\n",
      "keyence: \t26738 points\n"
     ]
    }
   ],
   "source": [
    "print(\"Full dataset:\")\n",
    "for k in full_data:\n",
    "    print(\"{}: \\t{} points\".format(k, len(full_data[k][[*full_data[k]][0]])))"
   ]
  },
  {
   "cell_type": "code",
   "execution_count": 4,
   "metadata": {},
   "outputs": [
    {
     "name": "stdout",
     "output_type": "stream",
     "text": [
      "Using limits:\n",
      "[datetime.datetime(2018, 7, 12, 17, 51, 28, 553491, tzinfo=<UTC>),\n",
      " datetime.datetime(2018, 7, 12, 18, 7, 6, 630950, tzinfo=<UTC>)]\n",
      "Truncated dataset:\n",
      "set_point: \t1526 points\n",
      "position: \t18706 points\n",
      "temperature: \t939 points\n",
      "keyence: \t20875 points\n"
     ]
    }
   ],
   "source": [
    "import data_tools\n",
    "from pprint import pprint\n",
    "import numpy as np\n",
    "\n",
    "#limits = [full_data['position']['time'][5000], full_data['position']['time'][5100]]\n",
    "limits = [full_data['set_point']['time'][0], full_data['set_point']['time'][-1]]\n",
    "\n",
    "print(\"Using limits:\")\n",
    "pprint(limits)\n",
    "\n",
    "# Truncate the data\n",
    "trunc_data = dict(zip(full_data.keys(), [data_tools.truncate(limits, full_data[k]) for k in full_data]))\n",
    "\n",
    "print(\"Truncated dataset:\")\n",
    "for k in trunc_data:\n",
    "    print(\"{}: \\t{} points\".format(k, len(trunc_data[k][[*trunc_data[k]][0]])))"
   ]
  },
  {
   "cell_type": "code",
   "execution_count": 5,
   "metadata": {},
   "outputs": [
    {
     "name": "stdout",
     "output_type": "stream",
     "text": [
      "Using dataset:\n",
      "set_point: \t1527 points\n",
      "position: \t24196 points\n",
      "temperature: \t1216 points\n",
      "keyence: \t26738 points\n"
     ]
    }
   ],
   "source": [
    "# Choose what to work with:\n",
    "#data = trunc_data\n",
    "data = full_data\n",
    "\n",
    "print(\"Using dataset:\")\n",
    "for k in data:\n",
    "    print(\"{}: \\t{} points\".format(k, len(data[k][[*data[k]][0]])))"
   ]
  },
  {
   "cell_type": "code",
   "execution_count": 6,
   "metadata": {},
   "outputs": [
    {
     "name": "stdout",
     "output_type": "stream",
     "text": [
      "Data rates (s):\n",
      "{'keyence': 0.044765,\n",
      " 'position': 0.050138,\n",
      " 'set_point': 0.61473,\n",
      " 'temperature': 0.999881}\n"
     ]
    }
   ],
   "source": [
    "# Find the data rates\n",
    "rate = dict()\n",
    "\n",
    "for k in data:\n",
    "    time_delta = [u - t for t, u in zip(data[k]['time'], data[k]['time'][1:])]\n",
    "    rate[k] = np.mean(time_delta).total_seconds()\n",
    "\n",
    "print(\"Data rates (s):\")                  \n",
    "pprint(rate)\n"
   ]
  },
  {
   "cell_type": "code",
   "execution_count": 7,
   "metadata": {},
   "outputs": [
    {
     "name": "stdout",
     "output_type": "stream",
     "text": [
      "Calculating transition time\n"
     ]
    },
    {
     "data": {
      "application/vnd.jupyter.widget-view+json": {
       "model_id": "6040a1771b954fec87eb3cf426f034e2",
       "version_major": 2,
       "version_minor": 0
      },
      "text/html": [
       "<p>Failed to display Jupyter Widget of type <code>FloatProgress</code>.</p>\n",
       "<p>\n",
       "  If you're reading this message in the Jupyter Notebook or JupyterLab Notebook, it may mean\n",
       "  that the widgets JavaScript is still loading. If this message persists, it\n",
       "  likely means that the widgets JavaScript library is either not installed or\n",
       "  not enabled. See the <a href=\"https://ipywidgets.readthedocs.io/en/stable/user_install.html\">Jupyter\n",
       "  Widgets Documentation</a> for setup instructions.\n",
       "</p>\n",
       "<p>\n",
       "  If you're reading this message in another frontend (for example, a static\n",
       "  rendering on GitHub or <a href=\"https://nbviewer.jupyter.org/\">NBViewer</a>),\n",
       "  it may mean that your frontend doesn't currently support widgets.\n",
       "</p>\n"
      ],
      "text/plain": [
       "FloatProgress(value=0.0, max=1527.0)"
      ]
     },
     "metadata": {},
     "output_type": "display_data"
    }
   ],
   "source": [
    "# Calculate transition time (only needs to be run once)\n",
    "\n",
    "from ipywidgets import FloatProgress\n",
    "from IPython.display import display\n",
    "\n",
    "# Round the position to 3dp\n",
    "data['position']['round'] = list(np.around(data['position']['data'], 2))\n",
    "\n",
    "# Initialise the transition time\n",
    "data['set_point']['trans'] = [None,] * len(data['set_point']['time'])\n",
    "\n",
    "# Make a progress bar\n",
    "print(\"Calculating transition time\")\n",
    "p = FloatProgress(min=0, max=len(data['set_point']['time']))\n",
    "display(p)\n",
    "\n",
    "i_last = 0\n",
    "\n",
    "for i, (t, sp) in enumerate(zip(data['set_point']['time'], data['set_point']['data'])):\n",
    "    # Find the nearest time index in the position dataset\n",
    "    i_start = data_tools.find_nearest_index(data['position']['time'][i_last:], t) + i_last\n",
    "    \n",
    "    try:\n",
    "        # Find the first index where the setpoint is reached from the rounded position dataset\n",
    "        i_stop  = data['position']['round'][i_start:].index(sp) + i_start\n",
    "        i_last = i_stop\n",
    "        \n",
    "        # The transition time is the time between the setpoint change, and the setpoint being reached\n",
    "        time = data['position']['time'][i_stop] - t\n",
    "        data['set_point']['trans'][i] = time.total_seconds()\n",
    "    \n",
    "    except ValueError:\n",
    "        data['set_point']['trans'][i] = None\n",
    "    \n",
    "    # Update the progress bar\n",
    "    p.value += 1"
   ]
  },
  {
   "cell_type": "code",
   "execution_count": 8,
   "metadata": {},
   "outputs": [
    {
     "name": "stdout",
     "output_type": "stream",
     "text": [
      "Calculating differences\n"
     ]
    },
    {
     "data": {
      "application/vnd.jupyter.widget-view+json": {
       "model_id": "f8b6280fc1df46ea9e523d7f504f7ac8",
       "version_major": 2,
       "version_minor": 0
      },
      "text/html": [
       "<p>Failed to display Jupyter Widget of type <code>FloatProgress</code>.</p>\n",
       "<p>\n",
       "  If you're reading this message in the Jupyter Notebook or JupyterLab Notebook, it may mean\n",
       "  that the widgets JavaScript is still loading. If this message persists, it\n",
       "  likely means that the widgets JavaScript library is either not installed or\n",
       "  not enabled. See the <a href=\"https://ipywidgets.readthedocs.io/en/stable/user_install.html\">Jupyter\n",
       "  Widgets Documentation</a> for setup instructions.\n",
       "</p>\n",
       "<p>\n",
       "  If you're reading this message in another frontend (for example, a static\n",
       "  rendering on GitHub or <a href=\"https://nbviewer.jupyter.org/\">NBViewer</a>),\n",
       "  it may mean that your frontend doesn't currently support widgets.\n",
       "</p>\n"
      ],
      "text/plain": [
       "FloatProgress(value=0.0)"
      ]
     },
     "metadata": {},
     "output_type": "display_data"
    }
   ],
   "source": [
    "# Pairs to find the difference of pair[0] - pair[1], and store it in pair[0]\n",
    "# Probably only makes sense to do this for pair[0] faster than pair[1]???\n",
    "diff_pairs = [\n",
    "    (['position', 'data'],            ['set_point', 'data'])\n",
    "    ]\n",
    "\n",
    "if keyence_filename is not None:\n",
    "    diff_pairs.extend([\n",
    "    (['keyence', ['data1', 'data2']], ['set_point', 'data']),\n",
    "    (['keyence', ['data1', 'data2']], ['position',  'data']),\n",
    "    ])\n",
    "\n",
    "# Make a progress bar\n",
    "from ipywidgets import FloatProgress\n",
    "from IPython.display import display\n",
    "print(\"Calculating differences\")\n",
    "p = FloatProgress()\n",
    "display(p)\n",
    "\n",
    "data_tools.calculate_differences(diff_pairs, data, progress=p)"
   ]
  },
  {
   "cell_type": "code",
   "execution_count": 9,
   "metadata": {},
   "outputs": [
    {
     "name": "stdout",
     "output_type": "stream",
     "text": [
      "Mask margin \t[datetime.timedelta(-1, 86399, 900000), datetime.timedelta(-1, 86399, 550138)]s\n",
      "Calculating masks\n"
     ]
    },
    {
     "data": {
      "application/vnd.jupyter.widget-view+json": {
       "model_id": "91f345019c1e43d386a111b3202e9e49",
       "version_major": 2,
       "version_minor": 0
      },
      "text/html": [
       "<p>Failed to display Jupyter Widget of type <code>FloatProgress</code>.</p>\n",
       "<p>\n",
       "  If you're reading this message in the Jupyter Notebook or JupyterLab Notebook, it may mean\n",
       "  that the widgets JavaScript is still loading. If this message persists, it\n",
       "  likely means that the widgets JavaScript library is either not installed or\n",
       "  not enabled. See the <a href=\"https://ipywidgets.readthedocs.io/en/stable/user_install.html\">Jupyter\n",
       "  Widgets Documentation</a> for setup instructions.\n",
       "</p>\n",
       "<p>\n",
       "  If you're reading this message in another frontend (for example, a static\n",
       "  rendering on GitHub or <a href=\"https://nbviewer.jupyter.org/\">NBViewer</a>),\n",
       "  it may mean that your frontend doesn't currently support widgets.\n",
       "</p>\n"
      ],
      "text/plain": [
       "FloatProgress(value=0.0)"
      ]
     },
     "metadata": {},
     "output_type": "display_data"
    }
   ],
   "source": [
    "# Pairs to create a mask on pair[0] using value changes of pair[1] and a margin, and store it in pair[0]\n",
    "# Probably only makes sense to do this for pair[0] faster than pair[1]???\n",
    "from importlib import reload\n",
    "reload(data_tools)\n",
    "\n",
    "import datetime\n",
    "\n",
    "mask_pairs = [('position', 'set_point')]\n",
    "jitter = rate['position']\n",
    "\n",
    "if keyence_filename is not None:\n",
    "    mask_pairs.extend([('keyence',  'set_point')])\n",
    "    jitter = max([rate['position'], rate['keyence']])\n",
    "\n",
    "\n",
    "trans = np.mean(data['set_point']['trans'][:-1])\n",
    "\n",
    "mask_margin = [datetime.timedelta(seconds = - 0.1),\n",
    "#               datetime.timedelta(seconds = trans + jitter)]\n",
    "               datetime.timedelta(seconds = -(0.5 - jitter))]\n",
    "\n",
    "print(\"Mask margin \\t{}s\".format(mask_margin))\n",
    "\n",
    "# Make a progress bar\n",
    "from ipywidgets import FloatProgress\n",
    "from IPython.display import display\n",
    "print(\"Calculating masks\")\n",
    "p = FloatProgress()\n",
    "display(p)\n",
    "\n",
    "data_tools.generate_mask(mask_pairs, mask_margin, data, progress=p)"
   ]
  },
  {
   "cell_type": "code",
   "execution_count": 10,
   "metadata": {
    "scrolled": false
   },
   "outputs": [
    {
     "name": "stdout",
     "output_type": "stream",
     "text": [
      "set_point\n",
      "\ttime\n",
      "\tdata\n",
      "\ttrans\n",
      "position\n",
      "\ttime\n",
      "\tdata\n",
      "\tround\n",
      "\tdata_set_point_data\n",
      "\tmask_set_point\n",
      "temperature\n",
      "\ttime\n",
      "\tstage\n",
      "\tbase\n",
      "\tamb\n",
      "keyence\n",
      "\ttime\n",
      "\tdata1\n",
      "\tdata2\n",
      "\tdata1_set_point_data\n",
      "\tdata2_set_point_data\n",
      "\tdata1_position_data\n",
      "\tdata2_position_data\n",
      "\tmask_set_point\n"
     ]
    }
   ],
   "source": [
    "for k in data:\n",
    "    print(k)\n",
    "    for l in data[k]:\n",
    "        print(\"\\t\"+l)"
   ]
  },
  {
   "cell_type": "code",
   "execution_count": 11,
   "metadata": {},
   "outputs": [
    {
     "name": "stdout",
     "output_type": "stream",
     "text": [
      "Processed dataset stored in .\\data\\2018-07-12-18-51-08.tdms_2018-07-12-18-51-17-KEYENCE.tdms_proc_data.p\n"
     ]
    }
   ],
   "source": [
    "# Store the processed data...\n",
    "\n",
    "if keyence_filename is not None:\n",
    "    pickle_file = data_dir + \"_\".join([filename, keyence_filename, \"proc_data.p\"])\n",
    "else:\n",
    "    pickle_file = data_dir + \"_\".join([filename, \"proc_data.p\"])\n",
    "\n",
    "# Add the info back in before pickling...\n",
    "data['info'] = info\n",
    "\n",
    "pickle.dump(data, open(pickle_file, 'wb'))\n",
    "\n",
    "print(\"Processed dataset stored in {}\".format(pickle_file))"
   ]
  },
  {
   "cell_type": "code",
   "execution_count": null,
   "metadata": {},
   "outputs": [],
   "source": []
  },
  {
   "cell_type": "code",
   "execution_count": null,
   "metadata": {},
   "outputs": [],
   "source": []
  }
 ],
 "metadata": {
  "kernelspec": {
   "display_name": "Python 3",
   "language": "python",
   "name": "python3"
  },
  "language_info": {
   "codemirror_mode": {
    "name": "ipython",
    "version": 3
   },
   "file_extension": ".py",
   "mimetype": "text/x-python",
   "name": "python",
   "nbconvert_exporter": "python",
   "pygments_lexer": "ipython3",
   "version": "3.6.4"
  }
 },
 "nbformat": 4,
 "nbformat_minor": 2
}
